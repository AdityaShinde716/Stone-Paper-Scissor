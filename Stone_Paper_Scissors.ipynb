{
  "nbformat": 4,
  "nbformat_minor": 0,
  "metadata": {
    "colab": {
      "provenance": [],
      "authorship_tag": "ABX9TyPX/155Icxc4KzVl0+z71Ig",
      "include_colab_link": true
    },
    "kernelspec": {
      "name": "python3",
      "display_name": "Python 3"
    },
    "language_info": {
      "name": "python"
    }
  },
  "cells": [
    {
      "cell_type": "markdown",
      "metadata": {
        "id": "view-in-github",
        "colab_type": "text"
      },
      "source": [
        "<a href=\"https://colab.research.google.com/github/AdityaShinde716/Stone-Paper-Scissor/blob/main/Stone_Paper_Scissors.ipynb\" target=\"_parent\"><img src=\"https://colab.research.google.com/assets/colab-badge.svg\" alt=\"Open In Colab\"/></a>"
      ]
    },
    {
      "cell_type": "code",
      "execution_count": 11,
      "metadata": {
        "colab": {
          "base_uri": "https://localhost:8080/"
        },
        "id": "Lpy5EeUfJDI_",
        "outputId": "532e9b89-f6ff-43d5-8141-21339e4558af"
      },
      "outputs": [
        {
          "output_type": "stream",
          "name": "stdout",
          "text": [
            "Enter your choice (stone, paper, Scissors): paper\n",
            "You chose paper, computer chose paper\n",
            "It's a tie!\n"
          ]
        }
      ],
      "source": [
        "import random\n",
        "\n",
        "def choice():\n",
        "  player_choice = input(\"Enter your choice (stone, paper, Scissors): \")\n",
        "  option = [\"stone\", \"paper\", \"scissors\"]\n",
        "  computer_choice = random.choice(option)\n",
        "  choices = {\"player\": player_choice, \"computer\": computer_choice}\n",
        "  return choices\n",
        "\n",
        "def check(player, computer):\n",
        "  print(f\"You chose {player}, computer chose {computer}\")\n",
        "  if player == computer:\n",
        "    return \"It's a tie!\"\n",
        "  elif player == \"Stone\":\n",
        "    if computer == \"scissors\":\n",
        "      return \"Stone beats scissors! You win!\"\n",
        "    else:\n",
        "      return \"Paper beats Stone! You lose.\"\n",
        "  elif player == \"paper\":\n",
        "    if computer == \"Stone\":\n",
        "      return \"Paper beats Stone! You win!\"\n",
        "    else:\n",
        "      return \"Scissors beats paper! You lose.\"\n",
        "  elif player == \"scissors\":\n",
        "    if computer == \"paper\":\n",
        "      return \"Scissors beats paper! You win!\"\n",
        "    else:\n",
        "      return \"Stone beats scissors! You lose.\"\n",
        "\n",
        "choices = choice()\n",
        "result = check(choices[\"player\"], choices[\"computer\"])\n",
        "print(result)"
      ]
    }
  ]
}